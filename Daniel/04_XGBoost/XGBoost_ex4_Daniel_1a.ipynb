{
  "cells": [
    {
      "cell_type": "markdown",
      "id": "978d0c6b",
      "metadata": {
        "id": "978d0c6b"
      },
      "source": [
        "# Set-Up"
      ]
    },
    {
      "cell_type": "code",
      "source": [
        "# !pip install tsfresh\n",
        "# !wget https://raw.githubusercontent.com/DanHarJor/CompLabB-UNIPD-TeamDream/main/Daniel/04_XGBoost/DATA/x_ts_L60_Z12_A500_DX50_bias5_N10000.dat\n",
        "# !wget https://raw.githubusercontent.com/DanHarJor/CompLabB-UNIPD-TeamDream/main/Daniel/04_XGBoost/DATA/y_ts_L60_Z12_A500_DX50_bias5_N10000.dat\n",
        "\n",
        "#!wget --no-check-certificate 'https://docs.google.com/uc?export=download&id=1y3qcM4OSrzfQhj-iHyJF86TUQJNUXOE9' -O x_features_pick\n"
      ],
      "metadata": {
        "id": "HCosFtGeinfU"
      },
      "id": "HCosFtGeinfU",
      "execution_count": 11,
      "outputs": []
    },
    {
      "cell_type": "code",
      "execution_count": 12,
      "id": "e7c208ee",
      "metadata": {
        "colab": {
          "base_uri": "https://localhost:8080/"
        },
        "id": "e7c208ee",
        "outputId": "66943d22-b349-4433-d7e5-d35de52d0f7b"
      },
      "outputs": [
        {
          "output_type": "stream",
          "name": "stdout",
          "text": [
            "data:  10000\n"
          ]
        }
      ],
      "source": [
        "import os\n",
        "import keras\n",
        "import tensorflow as tf\n",
        "from keras.models import Sequential\n",
        "from keras.layers import Dense, Dropout, Flatten #, Reshape\n",
        "from keras.layers import Conv1D, MaxPooling1D, AveragePooling1D\n",
        "import pandas as pd\n",
        "import numpy as np\n",
        "import matplotlib.pyplot as plt\n",
        "import matplotlib.markers as mark\n",
        "from tsfresh import extract_features\n",
        "from xgboost import XGBClassifier, plot_tree\n",
        "\n",
        "#create a random number generator 'rng' for data shuffles\n",
        "rng = np.random.default_rng()\n",
        "\n",
        "plt.rcParams['font.size'] = 14\n",
        "\n",
        "#Load, scale and split Data ################################################################\n",
        "str0 = 'ts_L60_Z12_A500_DX50_bias5_N10000.dat'\n",
        "fnamex='x_'+str0\n",
        "fnamey='y_'+str0\n",
        "\n",
        "x = np.loadtxt(fnamex, delimiter=\" \",dtype=float)\n",
        "N,L = len(x), len(x[0])\n",
        "\n",
        "categ = np.loadtxt(fnamey, dtype=int)\n",
        "n_class = 3    # y.argmax() - y.argmin() +1\n",
        "print('data: ',N)\n",
        "\n",
        "y = np.zeros((N,n_class))\n",
        "for i in range(N):\n",
        "    y[i][categ[i]] = 1.\n",
        "\n",
        "#rescale\n",
        "xm = x.mean(axis=1)\n",
        "for i in range(N):\n",
        "    x[i] = x[i]-xm[i]\n",
        "\n",
        "#rescale crude\n",
        "x = x/400\n",
        "\n",
        "perc_train=0.8\n",
        "N_train = int(perc_train*N)\n",
        "x_train = x[:N_train]\n",
        "y_train = y[:N_train]\n",
        "x_val = x[N_train:]\n",
        "y_val = y[N_train:]\n",
        "N_val = len(x_val)\n",
        "\n",
        "x_train = x_train.reshape(x_train.shape[0], L, 1)\n",
        "x_val =  x_val.reshape(x_val.shape[0], L, 1)\n",
        "input_shape = (L, 1)\n",
        "##########################################################################\n",
        "\n",
        "def Show_data(x,L,nSamples = 2,title=\"data\"):\n",
        "    plt.figure(figsize = (nSamples*3,10))\n",
        "    for i in range(nSamples):\n",
        "        plt.plot(np.arange((i+1)*L,(i+1)*L+L),x[i])\n",
        "        #plt.plot(np.arange(L,2*L),x[1])\n",
        "        #plt.plot(np.arange(2*L,3*L),x[2])\n",
        "    plt.title(title)\n",
        "    plt.xlabel(\"time\")\n",
        "    plt.show()\n",
        "\n",
        "def Show_history(fit, EPOCHS):\n",
        "    fig,AX=plt.subplots(1,2,figsize=(12,5.))\n",
        "    ax=AX[0]\n",
        "    ax.plot(fit.history['accuracy'],\"b\",label=\"train\")\n",
        "    ax.plot(fit.history['val_accuracy'],\"r--\",label=\"valid.\")\n",
        "    ax.plot((0,EPOCHS),(1/3,1/3),\":\",c=\"gray\",label=\"random choice\")\n",
        "    ax.set_xlabel('epoch')\n",
        "    ax.set_ylabel(\"Accuracy\")\n",
        "    ax.set_ylim([0, 1])\n",
        "    ax.legend()\n",
        "    ax=AX[1]\n",
        "    ax.plot(fit.history['loss'],\"b\",label=\"train\")\n",
        "    ax.plot(fit.history['val_loss'],\"r--\",label=\"valid.\")\n",
        "    ax.set_xlabel('epoch')\n",
        "    ax.set_ylabel(\"Loss\")\n",
        "    ax.set_ylim([0, 1.05*np.max(fit.history['loss'])])\n",
        "    ax.legend()\n",
        "    plt.show()\n",
        "\n",
        "##method 1\n",
        "import tensorflow.random as tf_r\n",
        "def compile_CNN(regLevel = 0.2):\n",
        "    np.random.seed(12345)    \n",
        "    tf_r.set_seed(12345)\n",
        "    ## from keras import regularizers, initializers\n",
        "    reg = tf.keras.regularizers.l1(regLevel) ## raised to 0.2\n",
        "    #reg = regularizers.l1(0.1)\n",
        "    ini = tf.keras.initializers.RandomNormal(mean=0.0, stddev=0.05,seed=None)\n",
        "    model = Sequential()\n",
        "    # -----2-- Convelutional layers\n",
        "    model.add(Conv1D(filters=5, kernel_size=11, \n",
        "                     kernel_initializer=ini, \n",
        "                     kernel_regularizer=reg,\n",
        "                     activation='relu', \n",
        "                     input_shape=input_shape))\n",
        "    #model.add(MaxPooling1D(3))\n",
        "    model.add(AveragePooling1D(5))\n",
        "    model.add(Conv1D(filters=5, kernel_size=7, \n",
        "                     activation='relu'))\n",
        "    model.add(Flatten())\n",
        "    model.add(Dense(12, activation='relu'))\n",
        "    model.add(Dropout(0.2))\n",
        "    model.add(Dense(n_class, activation='softmax')) # softmax !\n",
        "    model.compile(loss=keras.losses.categorical_crossentropy,\n",
        "                  optimizer=tf.keras.optimizers.Adam(),\n",
        "                  metrics=['accuracy'])\n",
        "    return model\n",
        "\n",
        "#used to remember best weights\n",
        "model_checkpoint_callback = tf.keras.callbacks.ModelCheckpoint(\n",
        "        filepath = os.getcwd(),\n",
        "        save_weights_only=False,\n",
        "        monitor='val_accuracy',\n",
        "        mode='max',\n",
        "        save_best_only=True,\n",
        "        verbose = 0)\n",
        "CNN = compile_CNN()\n"
      ]
    },
    {
      "cell_type": "markdown",
      "id": "3fd02d77",
      "metadata": {
        "id": "3fd02d77"
      },
      "source": [
        "# CNN at various data sizes"
      ]
    },
    {
      "cell_type": "code",
      "execution_count": 13,
      "id": "9e2ab44c",
      "metadata": {
        "colab": {
          "base_uri": "https://localhost:8080/"
        },
        "id": "9e2ab44c",
        "outputId": "a51357cc-4173-426b-cba0-1ad20a20dbda"
      },
      "outputs": [
        {
          "output_type": "stream",
          "name": "stdout",
          "text": [
            "INFO:tensorflow:Assets written to: /content/assets\n",
            "INFO:tensorflow:Assets written to: /content/assets\n",
            "INFO:tensorflow:Assets written to: /content/assets\n",
            "INFO:tensorflow:Assets written to: /content/assets\n",
            "INFO:tensorflow:Assets written to: /content/assets\n",
            "INFO:tensorflow:Assets written to: /content/assets\n",
            "INFO:tensorflow:Assets written to: /content/assets\n",
            "INFO:tensorflow:Assets written to: /content/assets\n",
            "INFO:tensorflow:Assets written to: /content/assets\n",
            "INFO:tensorflow:Assets written to: /content/assets\n",
            "INFO:tensorflow:Assets written to: /content/assets\n",
            "INFO:tensorflow:Assets written to: /content/assets\n",
            "INFO:tensorflow:Assets written to: /content/assets\n",
            "INFO:tensorflow:Assets written to: /content/assets\n",
            "INFO:tensorflow:Assets written to: /content/assets\n",
            "INFO:tensorflow:Assets written to: /content/assets\n",
            "INFO:tensorflow:Assets written to: /content/assets\n",
            "INFO:tensorflow:Assets written to: /content/assets\n",
            "INFO:tensorflow:Assets written to: /content/assets\n",
            "INFO:tensorflow:Assets written to: /content/assets\n",
            "INFO:tensorflow:Assets written to: /content/assets\n",
            "INFO:tensorflow:Assets written to: /content/assets\n",
            "INFO:tensorflow:Assets written to: /content/assets\n",
            "INFO:tensorflow:Assets written to: /content/assets\n",
            "INFO:tensorflow:Assets written to: /content/assets\n",
            "INFO:tensorflow:Assets written to: /content/assets\n",
            "[0.3465000092983246, 0.3529999852180481, 0.3330000042915344, 0.3955000042915344, 0.34200000762939453, 0.3684999942779541, 0.37599998712539673, 0.3970000147819519, 0.3334999978542328, 0.3330000042915344]\n",
            "INFO:tensorflow:Assets written to: /content/assets\n",
            "INFO:tensorflow:Assets written to: /content/assets\n",
            "[0.34950000047683716, 0.4059999883174896, 0.3334999978542328, 0.3894999921321869, 0.3440000116825104, 0.3330000042915344, 0.3330000042915344, 0.3375000059604645, 0.3479999899864197, 0.3334999978542328]\n",
            "INFO:tensorflow:Assets written to: /content/assets\n",
            "INFO:tensorflow:Assets written to: /content/assets\n",
            "[0.35199999809265137, 0.3334999978542328, 0.3330000042915344, 0.3334999978542328, 0.49050000309944153, 0.41350001096725464, 0.33500000834465027, 0.4194999933242798, 0.34450000524520874, 0.3479999899864197]\n",
            "[0.34450000524520874, 0.351500004529953, 0.34950000047683716, 0.3605000078678131, 0.3540000021457672, 0.335999995470047, 0.4779999852180481, 0.33649998903274536, 0.35249999165534973, 0.37049999833106995]\n",
            "INFO:tensorflow:Assets written to: /content/assets\n",
            "INFO:tensorflow:Assets written to: /content/assets\n",
            "INFO:tensorflow:Assets written to: /content/assets\n",
            "INFO:tensorflow:Assets written to: /content/assets\n",
            "INFO:tensorflow:Assets written to: /content/assets\n",
            "INFO:tensorflow:Assets written to: /content/assets\n",
            "INFO:tensorflow:Assets written to: /content/assets\n",
            "INFO:tensorflow:Assets written to: /content/assets\n",
            "INFO:tensorflow:Assets written to: /content/assets\n",
            "INFO:tensorflow:Assets written to: /content/assets\n",
            "INFO:tensorflow:Assets written to: /content/assets\n",
            "[0.5414999723434448, 0.40450000762939453, 0.34150001406669617, 0.36149999499320984, 0.382999986410141, 0.3334999978542328, 0.3334999978542328, 0.4715000092983246, 0.3714999854564667, 0.41600000858306885]\n",
            "[0.3919999897480011, 0.3330000042915344, 0.4050000011920929, 0.3330000042915344, 0.3330000042915344, 0.515999972820282, 0.3970000147819519, 0.3330000042915344, 0.3330000042915344, 0.3330000042915344]\n",
            "[0.3930000066757202, 0.37049999833106995, 0.3725000023841858, 0.35850000381469727, 0.3919999897480011, 0.5414999723434448, 0.34700000286102295, 0.398499995470047, 0.46950000524520874, 0.5120000243186951]\n",
            "INFO:tensorflow:Assets written to: /content/assets\n",
            "INFO:tensorflow:Assets written to: /content/assets\n",
            "INFO:tensorflow:Assets written to: /content/assets\n",
            "INFO:tensorflow:Assets written to: /content/assets\n",
            "INFO:tensorflow:Assets written to: /content/assets\n",
            "INFO:tensorflow:Assets written to: /content/assets\n",
            "INFO:tensorflow:Assets written to: /content/assets\n",
            "INFO:tensorflow:Assets written to: /content/assets\n",
            "INFO:tensorflow:Assets written to: /content/assets\n",
            "INFO:tensorflow:Assets written to: /content/assets\n",
            "INFO:tensorflow:Assets written to: /content/assets\n",
            "INFO:tensorflow:Assets written to: /content/assets\n",
            "INFO:tensorflow:Assets written to: /content/assets\n",
            "INFO:tensorflow:Assets written to: /content/assets\n",
            "INFO:tensorflow:Assets written to: /content/assets\n",
            "INFO:tensorflow:Assets written to: /content/assets\n",
            "INFO:tensorflow:Assets written to: /content/assets\n",
            "INFO:tensorflow:Assets written to: /content/assets\n",
            "[0.41499999165534973, 0.34599998593330383, 0.4235000014305115, 0.34299999475479126, 0.5755000114440918, 0.6050000190734863, 0.6359999775886536, 0.40849998593330383, 0.3824999928474426, 0.3334999978542328]\n",
            "INFO:tensorflow:Assets written to: /content/assets\n",
            "INFO:tensorflow:Assets written to: /content/assets\n",
            "INFO:tensorflow:Assets written to: /content/assets\n",
            "INFO:tensorflow:Assets written to: /content/assets\n",
            "INFO:tensorflow:Assets written to: /content/assets\n",
            "INFO:tensorflow:Assets written to: /content/assets\n",
            "INFO:tensorflow:Assets written to: /content/assets\n",
            "INFO:tensorflow:Assets written to: /content/assets\n",
            "INFO:tensorflow:Assets written to: /content/assets\n",
            "INFO:tensorflow:Assets written to: /content/assets\n",
            "INFO:tensorflow:Assets written to: /content/assets\n",
            "INFO:tensorflow:Assets written to: /content/assets\n",
            "INFO:tensorflow:Assets written to: /content/assets\n",
            "INFO:tensorflow:Assets written to: /content/assets\n",
            "INFO:tensorflow:Assets written to: /content/assets\n",
            "[0.3330000042915344, 0.7095000147819519, 0.6909999847412109, 0.3634999990463257, 0.47200000286102295, 0.367000013589859, 0.4059999883174896, 0.43950000405311584, 0.43549999594688416, 0.6384999752044678]\n",
            "[0.43700000643730164, 0.6004999876022339, 0.3334999978542328, 0.5745000243186951, 0.5525000095367432, 0.4794999957084656, 0.6065000295639038, 0.609000027179718, 0.3345000147819519, 0.5954999923706055]\n",
            "[0.4480000138282776, 0.40049999952316284, 0.6025000214576721, 0.5914999842643738, 0.3334999978542328, 0.6085000038146973, 0.6100000143051147, 0.3605000078678131, 0.3345000147819519, 0.6215000152587891]\n",
            "[0.6485000252723694, 0.6274999976158142, 0.351500004529953, 0.40849998593330383, 0.5074999928474426, 0.6060000061988831, 0.43950000405311584, 0.652999997138977, 0.4325000047683716, 0.6710000038146973]\n",
            "[0.3630000054836273, 0.3370000123977661, 0.4494999945163727, 0.42149999737739563, 0.6570000052452087, 0.6554999947547913, 0.6489999890327454, 0.6725000143051147, 0.6514999866485596, 0.33500000834465027]\n",
            "[0.652999997138977, 0.6414999961853027, 0.6244999766349792, 0.5494999885559082, 0.6585000157356262, 0.6804999709129333, 0.6664999723434448, 0.6545000076293945, 0.6700000166893005, 0.6430000066757202]\n",
            "INFO:tensorflow:Assets written to: /content/assets\n",
            "INFO:tensorflow:Assets written to: /content/assets\n",
            "INFO:tensorflow:Assets written to: /content/assets\n",
            "INFO:tensorflow:Assets written to: /content/assets\n",
            "INFO:tensorflow:Assets written to: /content/assets\n",
            "INFO:tensorflow:Assets written to: /content/assets\n",
            "INFO:tensorflow:Assets written to: /content/assets\n",
            "INFO:tensorflow:Assets written to: /content/assets\n",
            "INFO:tensorflow:Assets written to: /content/assets\n",
            "INFO:tensorflow:Assets written to: /content/assets\n",
            "INFO:tensorflow:Assets written to: /content/assets\n",
            "INFO:tensorflow:Assets written to: /content/assets\n",
            "INFO:tensorflow:Assets written to: /content/assets\n",
            "INFO:tensorflow:Assets written to: /content/assets\n",
            "INFO:tensorflow:Assets written to: /content/assets\n",
            "INFO:tensorflow:Assets written to: /content/assets\n",
            "INFO:tensorflow:Assets written to: /content/assets\n",
            "INFO:tensorflow:Assets written to: /content/assets\n",
            "INFO:tensorflow:Assets written to: /content/assets\n",
            "INFO:tensorflow:Assets written to: /content/assets\n",
            "INFO:tensorflow:Assets written to: /content/assets\n",
            "INFO:tensorflow:Assets written to: /content/assets\n",
            "INFO:tensorflow:Assets written to: /content/assets\n",
            "INFO:tensorflow:Assets written to: /content/assets\n",
            "INFO:tensorflow:Assets written to: /content/assets\n",
            "INFO:tensorflow:Assets written to: /content/assets\n",
            "INFO:tensorflow:Assets written to: /content/assets\n",
            "INFO:tensorflow:Assets written to: /content/assets\n",
            "INFO:tensorflow:Assets written to: /content/assets\n",
            "INFO:tensorflow:Assets written to: /content/assets\n",
            "INFO:tensorflow:Assets written to: /content/assets\n",
            "INFO:tensorflow:Assets written to: /content/assets\n",
            "[0.7829999923706055, 0.7835000157356262, 0.8019999861717224, 0.8125, 0.7785000205039978, 0.7764999866485596, 0.7820000052452087, 0.7724999785423279, 0.7795000076293945, 0.7914999723434448]\n",
            "INFO:tensorflow:Assets written to: /content/assets\n",
            "INFO:tensorflow:Assets written to: /content/assets\n",
            "INFO:tensorflow:Assets written to: /content/assets\n",
            "INFO:tensorflow:Assets written to: /content/assets\n",
            "INFO:tensorflow:Assets written to: /content/assets\n",
            "INFO:tensorflow:Assets written to: /content/assets\n",
            "[0.4050000011920929, 0.7990000247955322, 0.8165000081062317, 0.4440000057220459, 0.8130000233650208, 0.7994999885559082, 0.7979999780654907, 0.8019999861717224, 0.815500020980835, 0.8220000267028809]\n",
            "INFO:tensorflow:Assets written to: /content/assets\n",
            "INFO:tensorflow:Assets written to: /content/assets\n",
            "INFO:tensorflow:Assets written to: /content/assets\n",
            "INFO:tensorflow:Assets written to: /content/assets\n",
            "INFO:tensorflow:Assets written to: /content/assets\n",
            "INFO:tensorflow:Assets written to: /content/assets\n",
            "INFO:tensorflow:Assets written to: /content/assets\n",
            "INFO:tensorflow:Assets written to: /content/assets\n",
            "INFO:tensorflow:Assets written to: /content/assets\n",
            "INFO:tensorflow:Assets written to: /content/assets\n",
            "INFO:tensorflow:Assets written to: /content/assets\n",
            "INFO:tensorflow:Assets written to: /content/assets\n",
            "[0.843500018119812, 0.8364999890327454, 0.8399999737739563, 0.43149998784065247, 0.8389999866485596, 0.41449999809265137, 0.8169999718666077, 0.8414999842643738, 0.8475000262260437, 0.3765000104904175]\n",
            "INFO:tensorflow:Assets written to: /content/assets\n",
            "INFO:tensorflow:Assets written to: /content/assets\n",
            "INFO:tensorflow:Assets written to: /content/assets\n",
            "INFO:tensorflow:Assets written to: /content/assets\n",
            "INFO:tensorflow:Assets written to: /content/assets\n",
            "INFO:tensorflow:Assets written to: /content/assets\n",
            "INFO:tensorflow:Assets written to: /content/assets\n",
            "[0.39250001311302185, 0.4320000112056732, 0.4025000035762787, 0.42649999260902405, 0.8585000038146973, 0.8420000076293945, 0.8205000162124634, 0.843500018119812, 0.8514999747276306, 0.40299999713897705]\n"
          ]
        }
      ],
      "source": [
        "Ndat = [20,50,100,150,200,250,300,400,500,600,700,800,900,1000,2000,3000,7000,8000]\n",
        "batch_sizes = [10,20,30,50,50,50,100,100,100,250,250,250,250,250,250,250,250]\n",
        "CNN_mean_acc = []\n",
        "CNN_std_acc = []\n",
        "CNN_acc = []\n",
        "\n",
        "EPOCHS = 100 #needs tuned for comparison with XGBoost\n",
        "for i in range(len(Ndat)):\n",
        "    CNN_acc_temp = []\n",
        "    N = Ndat[i]\n",
        "    if i < 9:\n",
        "        BATCH_SIZE =  batch_sizes[i] #not sure\n",
        "    else: BATCH_SIZE = 250\n",
        "    \n",
        "    for j in range(10):\n",
        "      #shuffle data\n",
        "      permutation = rng.permutation(x_train.shape[0])\n",
        "      # resize data\n",
        "      s_x_train = (x_train[permutation])[0:N,:]\n",
        "      s_y_train = (y_train[permutation])[0:N]\n",
        "      #s_x_val = x_val[0:int(0.2*N),:]\n",
        "      #s_y_val = y_val[0:int(0.2*N)]\n",
        "    \n",
        "      #train and test CNN\n",
        "      CNN = compile_CNN()\n",
        "      fit = CNN.fit(s_x_train,s_y_train,batch_size=BATCH_SIZE,\n",
        "                      epochs=EPOCHS,\n",
        "                      validation_data=(x_val, y_val),\n",
        "                      verbose=0, shuffle=True, callbacks=[model_checkpoint_callback])\n",
        "      maxAcc = np.max(fit.history['val_accuracy'])\n",
        "      CNN_acc_temp.append(maxAcc)\n",
        "    print(CNN_acc_temp)\n",
        "    CNN_acc.append(CNN_acc_temp)\n",
        "    CNN_mean_acc.append(np.mean(CNN_acc_temp))\n",
        "    CNN_std_acc.append(np.std(CNN_acc_temp))\n"
      ]
    },
    {
      "cell_type": "code",
      "execution_count": 15,
      "id": "f7997806",
      "metadata": {
        "colab": {
          "base_uri": "https://localhost:8080/",
          "height": 592
        },
        "id": "f7997806",
        "outputId": "bae20eeb-eb98-4999-ff48-229f73d0fb8d"
      },
      "outputs": [
        {
          "output_type": "stream",
          "name": "stderr",
          "text": [
            "No handles with labels found to put in legend.\n"
          ]
        },
        {
          "output_type": "stream",
          "name": "stdout",
          "text": [
            "18\n",
            "18\n",
            "[0.023716239711725005, 0.024514531773833646, 0.050575291089744706, 0.039453164893525496, 0.06331239549521014, 0.05653458285138375, 0.06423939425642447, 0.10877271366322738, 0.13383430624504156, 0.10427804466177573, 0.11995745195025076, 0.11355823708408758, 0.14189679876391822, 0.03497645802584678, 0.011792050776463843, 0.15393009173200622, 0.1977630184391818, 0.21640774591500445]\n"
          ]
        },
        {
          "output_type": "display_data",
          "data": {
            "text/plain": [
              "<Figure size 1080x720 with 1 Axes>"
            ],
            "image/png": "[encoded data removed]"
          },
          "metadata": {
            "needs_background": "light"
          }
        }
      ],
      "source": [
        "Ndat = [20,50,100,150,200,250,300,400,500,600,700,800,900,1000,2000,3000,7000,8000]\n",
        "print(len(Ndat))\n",
        "print(len(CNN_mean_acc))\n",
        "figDataSize = plt.figure(figsize = (15,10))\n",
        "#plt.plot(Ndat,CNN_mean_acc, 'r.-', label = 'CNN')\n",
        "plt.errorbar(Ndat,CNN_mean_acc, yerr = CNN_std_acc,ecolor = 'r', marker = 'o',mfc = 'g')\n",
        "plt.xlabel('Data Size')\n",
        "plt.ylabel('Validation Accuracy')\n",
        "#plt.xticks(Ndat,Ndat)\n",
        "plt.title('Performance Comparison for Various Data Sizes, CNN')\n",
        "plt.legend()\n",
        "\n",
        "print(CNN_std_acc)"
      ]
    },
    {
      "cell_type": "markdown",
      "id": "c466b677",
      "metadata": {
        "id": "c466b677"
      },
      "source": [
        "# XGBoost with tsfresh"
      ]
    },
    {
      "cell_type": "code",
      "execution_count": 4,
      "id": "5b03e50a",
      "metadata": {
        "id": "5b03e50a"
      },
      "outputs": [],
      "source": [
        "#turn data into a dataframe that is compatable with tsfresh\n",
        "def get_df(x):\n",
        "    '''Build input dataframe for given data series\n",
        "    Input:\n",
        "    var = array of time series, (#samples,time,1)\n",
        "    Return:\n",
        "    df = dataframe ready for features extraction\n",
        "    '''\n",
        "    \n",
        "    #N = #samples, t = timesteps\n",
        "    N, t = x.shape[0], x.shape[1]\n",
        "    #build id columns\n",
        "    id_col = np.repeat(np.arange(N),t)\n",
        "    #build time columns\n",
        "    time_col = np.tile(np.arange(t),N)\n",
        "    #build var columns\n",
        "    x_col = x.flatten()\n",
        "      \n",
        "    #build dict for df\n",
        "    x_dict = {'id':id_col,'time':time_col,'value':x_col}\n",
        "        \n",
        "    #return dataframe\n",
        "    return pd.DataFrame(x_dict)\n",
        "\n",
        "df = get_df(x)\n",
        "\n",
        "#extract features\n",
        "# x_features = extract_features(\n",
        "#                             df, #our dataframe\n",
        "#                             column_id='id', #sample id, from 0 to N\n",
        "#                             column_sort='time', #timestep, from 0 to t\n",
        "#                             column_kind=None, #we have only one feature\n",
        "#                             column_value='value', #value of input \n",
        "#                             n_jobs=1) #number of cores\n",
        "\n"
      ]
    },
    {
      "cell_type": "code",
      "source": [
        "\n",
        "import pickle\n",
        "##save to pickle file\n",
        "#with open('x_features_pick', 'wb') as file:\n",
        "#    pickle.dump(x_features, file)\n",
        "\n",
        "\n",
        "#load from pickle file\n",
        "with open('x_features_pick', 'rb') as file:\n",
        "     x_features = pickle.load(file)\n"
      ],
      "metadata": {
        "id": "j8MgqYUhyr8n"
      },
      "id": "j8MgqYUhyr8n",
      "execution_count": 1,
      "outputs": []
    },
    {
      "cell_type": "code",
      "source": [
        "#remove columns with NaN or inf\n",
        "x_features.replace([np.inf, -np.inf], np.nan)\n",
        "x_features = x_features.dropna(axis='columns')\n",
        "\n",
        "#split data into training and validation\n",
        "perc_train=0.8\n",
        "N_train = int(perc_train*N)\n",
        "x_train = x_features[0:N_train]\n",
        "y_train_xgb = categ[0:N_train]\n",
        "x_val = x_features[N_train:]\n",
        "y_val_xgb = categ[N_train:]\n",
        "N_val = len(x_val)\n",
        "print('N = ',N,'   N_train=',N_train,'  N_val=',N_val,'  n_class=',n_class)\n",
        "\n",
        "#rescale: in each feature, remove average and divide by std\n",
        "average = np.mean(x_train,axis=0)\n",
        "x_train -= average\n",
        "x_val -= average\n",
        "\n",
        "std = np.std(x_train,axis=0)\n",
        "x_train /= std\n",
        "x_val /= std\n",
        "\n",
        "def XGB_compile():\n",
        "    # reproducibility\n",
        "    np.random.seed(12345)\n",
        "\n",
        "    #define parameters for xgboost\n",
        "    params = {'max_depth':6,'min_child_weight':1,\\\n",
        "              'learning_rate':0.3,'use_label_encoder':False}\n",
        "\n",
        "    #build model with given params\n",
        "    model = XGBClassifier(**params)\n",
        "    return model\n"
      ],
      "metadata": {
        "colab": {
          "base_uri": "https://localhost:8080/"
        },
        "id": "U9z6ReDAmBcu",
        "outputId": "16dd131c-e908-411d-ba9f-04895228526e"
      },
      "id": "U9z6ReDAmBcu",
      "execution_count": 5,
      "outputs": [
        {
          "output_type": "stream",
          "name": "stdout",
          "text": [
            "N =  10000    N_train= 8000   N_val= 2000   n_class= 3\n"
          ]
        }
      ]
    },
    {
      "cell_type": "code",
      "source": [
        "Ndat = [20,50,100,150,200,250,300,400,500,600,700,800,900,1000,2000,3000,7000,8000]\n",
        "fracs = np.array(Ndat)/8000\n",
        "XGB_mean_acc = []\n",
        "XGB_std_acc = []\n",
        "XGB_acc = []\n",
        "\n",
        "for i in range(len(Ndat)):\n",
        "    XGB_acc_temp = []\n",
        "    \n",
        "    for j in range(5):\n",
        "      #shuffle data and resize\n",
        "      shuffle = x_train.sample(frac = fracs[i])\n",
        "      index = shuffle.index.tolist()\n",
        "      # resize data\n",
        "      s_x_train = shuffle#.reset_index()\n",
        "      s_y_train = (y_train_xgb[index])[0:len(index)]\n",
        "      #s_x_val = x_val[0:int(0.2*N),:]\n",
        "      #s_y_val = y_val[0:int(0.2*N)]\n",
        "      XGB = XGB_compile()\n",
        "      fit = XGB.fit(s_x_train.values,s_y_train)\n",
        "      y_pred = XGB.predict(x_val.values)\n",
        "      acc = np.sum([y_pred == y_val_xgb])/len(y_val_xgb)\n",
        "      XGB_acc_temp.append(acc)\n",
        "    XGB_acc.append(XGB_acc_temp)\n",
        "    XGB_mean_acc.append(np.mean(XGB_acc_temp))\n",
        "    XGB_std_acc.append(np.std(XGB_acc_temp))\n"
      ],
      "metadata": {
        "id": "JCCjd1jmLvxb"
      },
      "id": "JCCjd1jmLvxb",
      "execution_count": 7,
      "outputs": []
    },
    {
      "cell_type": "code",
      "source": [
        "figDataSize = plt.figure(figsize = (15,10))\n",
        "plt.errorbar(Ndat,XGB_mean_acc, yerr = XGB_std_acc,ecolor = 'r', marker = 'o',mfc = 'g')\n",
        "plt.title('Performance Comparison for Various Data Sizes XGBoost')\n",
        "plt.xlabel('Data Size')\n",
        "plt.ylabel('Validation Accuracy')\n",
        "plt.legend()"
      ],
      "metadata": {
        "colab": {
          "base_uri": "https://localhost:8080/",
          "height": 528
        },
        "id": "LBe0C-YScRE7",
        "outputId": "8e899899-8caa-4a61-e310-b9302420390a"
      },
      "id": "LBe0C-YScRE7",
      "execution_count": 16,
      "outputs": [
        {
          "output_type": "stream",
          "name": "stderr",
          "text": [
            "No handles with labels found to put in legend.\n"
          ]
        },
        {
          "output_type": "execute_result",
          "data": {
            "text/plain": [
              "<matplotlib.legend.Legend at 0x7f18ee4cde10>"
            ]
          },
          "metadata": {},
          "execution_count": 16
        },
        {
          "output_type": "display_data",
          "data": {
            "text/plain": [
              "<Figure size 1080x720 with 1 Axes>"
            ],
            "image/png": "[encoded data removed]"
          },
          "metadata": {
            "needs_background": "light"
          }
        }
      ]
    },
    {
      "cell_type": "code",
      "source": [
        "print(XGB_std_acc)"
      ],
      "metadata": {
        "colab": {
          "base_uri": "https://localhost:8080/"
        },
        "id": "ufxro_cGiNWt",
        "outputId": "292477ef-f363-407b-e291-fee914f5a0ca"
      },
      "id": "ufxro_cGiNWt",
      "execution_count": 9,
      "outputs": [
        {
          "output_type": "stream",
          "name": "stdout",
          "text": [
            "[0.0, 0.0, 0.0, 0.0, 0.0, 0.0, 0.0, 1.1102230246251565e-16, 0.0, 0.0, 0.0, 1.1102230246251565e-16, 0.0, 0.0, 0.0, 0.0, 0.0, 0.0]\n"
          ]
        }
      ]
    },
    {
      "cell_type": "code",
      "source": [
        ""
      ],
      "metadata": {
        "id": "ZkqmAhZYQwwe"
      },
      "id": "ZkqmAhZYQwwe",
      "execution_count": null,
      "outputs": []
    },
    {
      "cell_type": "markdown",
      "source": [
        "# Comparing XGBoost with CNN"
      ],
      "metadata": {
        "id": "VeDyrh4tef93"
      },
      "id": "VeDyrh4tef93"
    },
    {
      "cell_type": "code",
      "source": [
        "figDataSize = plt.figure(figsize = (15,10))\n",
        "plt.errorbar(Ndat,CNN_mean_acc, yerr = CNN_std_acc,ecolor = 'r', marker = 'o',mfc = 'g', color = 'g', label = 'CNN')\n",
        "plt.errorbar(Ndat,XGB_mean_acc, yerr = XGB_std_acc,ecolor = 'r', marker = 'o',mfc = 'b', color = 'b',label = 'XGBoost')\n",
        "plt.xlabel('Data Size')\n",
        "plt.ylabel('Validation Accuracy')\n",
        "plt.title('Performance Comparison for Various Data Sizes')\n",
        "plt.legend()"
      ],
      "metadata": {
        "colab": {
          "base_uri": "https://localhost:8080/",
          "height": 520
        },
        "id": "fkpWjwJ4eq-3",
        "outputId": "30c6ef3c-d38e-449a-fb2a-1969e26c3be1"
      },
      "id": "fkpWjwJ4eq-3",
      "execution_count": 18,
      "outputs": [
        {
          "output_type": "execute_result",
          "data": {
            "text/plain": [
              "<matplotlib.legend.Legend at 0x7f18f4401c90>"
            ]
          },
          "metadata": {},
          "execution_count": 18
        },
        {
          "output_type": "display_data",
          "data": {
            "text/plain": [
              "<Figure size 1080x720 with 1 Axes>"
            ],
            "image/png": "[encoded data removed]"
          },
          "metadata": {
            "needs_background": "light"
          }
        }
      ]
    },
    {
      "cell_type": "code",
      "source": [
        ""
      ],
      "metadata": {
        "id": "vtkaCH8Y9r0R"
      },
      "id": "vtkaCH8Y9r0R",
      "execution_count": null,
      "outputs": []
    },
    {
      "cell_type": "markdown",
      "source": [
        "# Conclusion\n",
        "\n",
        "XGBoost massivly outperformes the CNN. It is more stable which can be seen by the lack of variance with different runs. It achieves a higher accuracy at all of the data sizes. \n",
        "\n",
        "I suspect this is because of the simplicity of the problem. Perhaps the CNN could outperform XGBoost in solving more complex problems with even larger datasets. "
      ],
      "metadata": {
        "id": "vwEMRfCritNC"
      },
      "id": "vwEMRfCritNC"
    },
    {
      "cell_type": "code",
      "source": [
        ""
      ],
      "metadata": {
        "id": "tIGcNEuKjVIg"
      },
      "id": "tIGcNEuKjVIg",
      "execution_count": null,
      "outputs": []
    }
  ],
  "metadata": {
    "kernelspec": {
      "display_name": "Python 3 (ipykernel)",
      "language": "python",
      "name": "python3"
    },
    "language_info": {
      "codemirror_mode": {
        "name": "ipython",
        "version": 3
      },
      "file_extension": ".py",
      "mimetype": "text/x-python",
      "name": "python",
      "nbconvert_exporter": "python",
      "pygments_lexer": "ipython3",
      "version": "3.10.2"
    },
    "colab": {
      "name": "XGBoost_ex4_Daniel.ipynb",
      "provenance": [],
      "collapsed_sections": []
    }
  },
  "nbformat": 4,
  "nbformat_minor": 5
}