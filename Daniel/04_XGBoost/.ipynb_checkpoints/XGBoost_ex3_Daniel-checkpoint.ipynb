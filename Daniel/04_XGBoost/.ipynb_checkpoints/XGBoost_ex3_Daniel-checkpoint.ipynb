{
 "cells": [
  {
   "cell_type": "markdown",
   "id": "978d0c6b",
   "metadata": {},
   "source": [
    "# Set-Up"
   ]
  },
  {
   "cell_type": "code",
   "execution_count": 12,
   "id": "e7c208ee",
   "metadata": {},
   "outputs": [
    {
     "name": "stderr",
     "output_type": "stream",
     "text": [
      "/home/daniel/anaconda3/envs/tf_env/lib/python3.10/site-packages/xgboost/compat.py:36: FutureWarning: pandas.Int64Index is deprecated and will be removed from pandas in a future version. Use pandas.Index with the appropriate dtype instead.\n",
      "  from pandas import MultiIndex, Int64Index\n"
     ]
    },
    {
     "name": "stdout",
     "output_type": "stream",
     "text": [
      "data:  10000\n"
     ]
    }
   ],
   "source": [
    "import os\n",
    "import keras\n",
    "import tensorflow as tf\n",
    "from keras.models import Sequential\n",
    "from keras.layers import Dense, Dropout, Flatten #, Reshape\n",
    "from keras.layers import Conv1D, MaxPooling1D, AveragePooling1D\n",
    "import pandas as pd\n",
    "import numpy as np\n",
    "import matplotlib.pyplot as plt\n",
    "from tsfresh import extract_features\n",
    "from xgboost import XGBClassifier, plot_tree\n",
    "plt.rcParams['font.size'] = 14\n",
    "\n",
    "#Load, scale and split Data ################################################################\n",
    "str0 = 'ts_L60_Z12_A500_DX50_bias5_N10000.dat'\n",
    "fnamex='DATA/x_'+str0\n",
    "fnamey='DATA/y_'+str0\n",
    "\n",
    "x = np.loadtxt(fnamex, delimiter=\" \",dtype=float)\n",
    "N,L = len(x), len(x[0])\n",
    "\n",
    "categ = np.loadtxt(fnamey, dtype=int)\n",
    "n_class = 3    # y.argmax() - y.argmin() +1\n",
    "print('data: ',N)\n",
    "\n",
    "y = np.zeros((N,n_class))\n",
    "for i in range(N):\n",
    "    y[i][categ[i]] = 1.\n",
    "\n",
    "#rescale\n",
    "xm = x.mean(axis=1)\n",
    "for i in range(N):\n",
    "    x[i] = x[i]-xm[i]\n",
    "\n",
    "#rescale crude\n",
    "x = x/400\n",
    "\n",
    "perc_train=0.8\n",
    "N_train = int(perc_train*N)\n",
    "x_train = x[:N_train]\n",
    "y_train = y[:N_train]\n",
    "x_val = x[N_train:]\n",
    "y_val = y[N_train:]\n",
    "N_val = len(x_val)\n",
    "\n",
    "x_train = x_train.reshape(x_train.shape[0], L, 1)\n",
    "x_val =  x_val.reshape(x_val.shape[0], L, 1)\n",
    "input_shape = (L, 1)\n",
    "##########################################################################\n",
    "\n",
    "def Show_data(x,L,nSamples = 2,title=\"data\"):\n",
    "    plt.figure(figsize = (nSamples*3,10))\n",
    "    for i in range(nSamples):\n",
    "        plt.plot(np.arange((i+1)*L,(i+1)*L+L),x[i])\n",
    "        #plt.plot(np.arange(L,2*L),x[1])\n",
    "        #plt.plot(np.arange(2*L,3*L),x[2])\n",
    "    plt.title(title)\n",
    "    plt.xlabel(\"time\")\n",
    "    plt.show()\n",
    "\n",
    "def Show_history(fit, EPOCHS):\n",
    "    fig,AX=plt.subplots(1,2,figsize=(12,5.))\n",
    "    ax=AX[0]\n",
    "    ax.plot(fit.history['accuracy'],\"b\",label=\"train\")\n",
    "    ax.plot(fit.history['val_accuracy'],\"r--\",label=\"valid.\")\n",
    "    ax.plot((0,EPOCHS),(1/3,1/3),\":\",c=\"gray\",label=\"random choice\")\n",
    "    ax.set_xlabel('epoch')\n",
    "    ax.set_ylabel(\"Accuracy\")\n",
    "    ax.set_ylim([0, 1])\n",
    "    ax.legend()\n",
    "    ax=AX[1]\n",
    "    ax.plot(fit.history['loss'],\"b\",label=\"train\")\n",
    "    ax.plot(fit.history['val_loss'],\"r--\",label=\"valid.\")\n",
    "    ax.set_xlabel('epoch')\n",
    "    ax.set_ylabel(\"Loss\")\n",
    "    ax.set_ylim([0, 1.05*np.max(fit.history['loss'])])\n",
    "    ax.legend()\n",
    "    plt.show()\n",
    "\n",
    "##method 1\n",
    "import tensorflow.random as tf_r\n",
    "def compile_CNN(regLevel = 0.2):\n",
    "    np.random.seed(12345)\n",
    "    \n",
    "    tf_r.set_seed(12345)\n",
    "    ## from keras import regularizers, initializers\n",
    "    reg = tf.keras.regularizers.l1(regLevel) ## raised to 0.2\n",
    "    #reg = regularizers.l1(0.1)\n",
    "    ini = tf.keras.initializers.RandomNormal(mean=0.0, stddev=0.05,seed=None)\n",
    "    model = Sequential()\n",
    "    # -----2-- Convelutional layers\n",
    "    model.add(Conv1D(filters=5, kernel_size=11, \n",
    "                     kernel_initializer=ini, \n",
    "                     kernel_regularizer=reg,\n",
    "                     activation='relu', \n",
    "                     input_shape=input_shape))\n",
    "    #model.add(MaxPooling1D(3))\n",
    "    model.add(AveragePooling1D(5))\n",
    "    model.add(Conv1D(filters=5, kernel_size=7, \n",
    "                     activation='relu'))\n",
    "    model.add(Flatten())\n",
    "    model.add(Dense(12, activation='relu'))\n",
    "    model.add(Dropout(0.2))\n",
    "    model.add(Dense(n_class, activation='softmax')) # softmax !\n",
    "    model.compile(loss=keras.losses.categorical_crossentropy,\n",
    "                  optimizer=tf.keras.optimizers.Adam(),\n",
    "                  metrics=['accuracy'])\n",
    "    return model\n",
    "\n",
    "#used to remember best weights\n",
    "model_checkpoint_callback = tf.keras.callbacks.ModelCheckpoint(\n",
    "        filepath = os.getcwd(),\n",
    "        save_weights_only=False,\n",
    "        monitor='val_accuracy',\n",
    "        mode='max',\n",
    "        save_best_only=True,\n",
    "        verbose = 0)\n"
   ]
  },
  {
   "cell_type": "markdown",
   "id": "3fd02d77",
   "metadata": {},
   "source": [
    "# CNN at various data sizes"
   ]
  },
  {
   "cell_type": "code",
   "execution_count": 5,
   "id": "9e2ab44c",
   "metadata": {},
   "outputs": [
    {
     "name": "stdout",
     "output_type": "stream",
     "text": [
      "INFO:tensorflow:Assets written to: /home/daniel/CompLabB/CompLabB-UNIPD-TeamDream/Daniel/04_XGBoost/assets\n",
      "INFO:tensorflow:Assets written to: /home/daniel/CompLabB/CompLabB-UNIPD-TeamDream/Daniel/04_XGBoost/assets\n"
     ]
    },
    {
     "data": {
      "text/plain": [
       "<matplotlib.legend.Legend at 0x7f42267201c0>"
      ]
     },
     "execution_count": 5,
     "metadata": {},
     "output_type": "execute_result"
    },
    {
     "data": {
      "image/png": "[encoded data removed]",
      "text/plain": [
       "<Figure size 432x288 with 1 Axes>"
      ]
     },
     "metadata": {
      "needs_background": "light"
     },
     "output_type": "display_data"
    }
   ],
   "source": [
    "Ndat = [20,50,100,150,200,250,300,400,500,600,700,800,900,1000,2000,3000]\n",
    "batch_sizes = [10,20,30,50,50,50,100,100,100,250,250,250,250,250,250,250]\n",
    "CNN_acc = []\n",
    "\n",
    "for i in range(len(Ndat)):\n",
    "    N = Ndat[i]\n",
    "    # resize data\n",
    "    s_x_train = x_train[0:N,:]\n",
    "    s_y_train = y_train[0:N]\n",
    "    s_x_val = x_val[0:int(0.2*N),:]\n",
    "    s_y_val = y_val[0:int(0.2*N)]\n",
    "    \n",
    "    #train and test CNN\n",
    "    EPOCHS = 100 #needs tuned for comparison with XGBoost\n",
    "    if i < 9:\n",
    "        BATCH_SIZE =  batch_sizes[i] #not sure\n",
    "    else: BATCH_SIZE = 250\n",
    "    CNN = compile_CNN()\n",
    "    fit = CNN.fit(s_x_train,s_y_train,batch_size=BATCH_SIZE,\n",
    "                    epochs=EPOCHS,\n",
    "                    validation_data=(s_x_val, s_y_val),\n",
    "                    verbose=0, shuffle=True,callbacks=[model_checkpoint_callback])\n",
    "    maxAcc = np.max(fit.history['val_accuracy'])\n",
    "    CNN_acc.append(maxAcc)\n"
   ]
  },
  {
   "cell_type": "code",
   "execution_count": 8,
   "id": "f7997806",
   "metadata": {},
   "outputs": [
    {
     "data": {
      "text/plain": [
       "<matplotlib.legend.Legend at 0x7f422657e950>"
      ]
     },
     "execution_count": 8,
     "metadata": {},
     "output_type": "execute_result"
    },
    {
     "data": {
      "image/png": "[encoded data removed]",
      "text/plain": [
       "<Figure size 432x288 with 1 Axes>"
      ]
     },
     "metadata": {
      "needs_background": "light"
     },
     "output_type": "display_data"
    }
   ],
   "source": [
    "figDataSize = plt.figure()\n",
    "plt.plot(Ndat,CNN_acc, 'r.-', label = 'CNN')\n",
    "plt.title('Performance Comparison for Various Data Sizes')\n",
    "plt.legend()"
   ]
  },
  {
   "cell_type": "markdown",
   "id": "c466b677",
   "metadata": {},
   "source": [
    "# XGBoost with tsfresh"
   ]
  },
  {
   "cell_type": "code",
   "execution_count": null,
   "id": "5b03e50a",
   "metadata": {},
   "outputs": [
    {
     "name": "stdout",
     "output_type": "stream",
     "text": [
      "ERROR! Session/line number was not unique in database. History logging moved to new session 378\n"
     ]
    },
    {
     "name": "stderr",
     "output_type": "stream",
     "text": [
      "Feature Extraction:   0%|                                | 0/20 [00:00<?, ?it/s]\n"
     ]
    }
   ],
   "source": [
    "\n",
    "#turn data into a dataframe that is compatable with tsfresh\n",
    "def get_df(x):\n",
    "    '''Build input dataframe for given data series\n",
    "    Input:\n",
    "    var = array of time series, (#samples,time,1)\n",
    "    Return:\n",
    "    df = dataframe ready for features extraction\n",
    "    '''\n",
    "    \n",
    "    #N = #samples, t = timesteps\n",
    "    N, t = x.shape[0], x.shape[1]\n",
    "    #build id columns\n",
    "    id_col = np.repeat(np.arange(N),t)\n",
    "    #build time columns\n",
    "    time_col = np.tile(np.arange(t),N)\n",
    "    #build var columns\n",
    "    x_col = x.flatten()\n",
    "      \n",
    "    #build dict for df\n",
    "    x_dict = {'id':id_col,'time':time_col,'value':x_col}\n",
    "        \n",
    "    #return dataframe\n",
    "    return pd.DataFrame(x_dict)\n",
    "\n",
    "df = get_df(x)\n",
    "\n",
    "#extract features\n",
    "x_features = extract_features(\n",
    "                            df, #our dataframe\n",
    "                            column_id='id', #sample id, from 0 to N\n",
    "                            column_sort='time', #timestep, from 0 to t\n",
    "                            column_kind=None, #we have only one feature\n",
    "                            column_value='value', #value of input \n",
    "                            n_jobs=4) #number of cores\n",
    "\n",
    "#remove columns with NaN or inf\n",
    "x_features.replace([np.inf, -np.inf], np.nan)\n",
    "x_features = x_features.dropna(axis='columns')\n",
    "\n",
    "#split data into training and validation\n",
    "\n",
    "perc_train=0.8\n",
    "N_train = int(perc_train*N)\n",
    "x_train = x_features[:N_train]\n",
    "y_train = y[:N_train]\n",
    "x_val = x_features[N_train:]\n",
    "y_val = y[N_train:]\n",
    "N_val = len(x_val)\n",
    "print('N_train=',N_train,'  N_val=',N_val,'  n_class=',n_class)\n",
    "\n",
    "#rescale: in each feature, remove average and divide by std\n",
    "average = np.mean(x_train,axis=0)\n",
    "x_train -= average\n",
    "x_val -= average\n",
    "\n",
    "std = np.std(x_train,axis=0)\n",
    "x_train /= std\n",
    "x_val /= std\n",
    "\n",
    "def XGB_compile():\n",
    "    # reproducibility\n",
    "    np.random.seed(12345)\n",
    "\n",
    "    #define parameters for xgboost\n",
    "    params = {'max_depth':6,'min_child_weight':1,\\\n",
    "              'learning_rate':0.3,'use_label_encoder':False}\n",
    "\n",
    "    #build model with given params\n",
    "    model = XGBClassifier(**params)\n",
    "    return model\n",
    "#fit\n",
    "XGB = XGB_compile()\n",
    "fit = XGB.fit(x_train.values,y_train)"
   ]
  },
  {
   "cell_type": "code",
   "execution_count": null,
   "id": "6d0381fa",
   "metadata": {},
   "outputs": [],
   "source": [
    "loss1, acc1 = model.evaluate(x=x_val, y=y_val, verbose = 0)"
   ]
  }
 ],
 "metadata": {
  "kernelspec": {
   "display_name": "Python 3 (ipykernel)",
   "language": "python",
   "name": "python3"
  },
  "language_info": {
   "codemirror_mode": {
    "name": "ipython",
    "version": 3
   },
   "file_extension": ".py",
   "mimetype": "text/x-python",
   "name": "python",
   "nbconvert_exporter": "python",
   "pygments_lexer": "ipython3",
   "version": "3.10.2"
  }
 },
 "nbformat": 4,
 "nbformat_minor": 5
}
