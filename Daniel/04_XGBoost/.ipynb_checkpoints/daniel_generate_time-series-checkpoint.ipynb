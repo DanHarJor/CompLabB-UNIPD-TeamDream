{
 "cells": [
  {
   "cell_type": "code",
   "execution_count": 8,
   "metadata": {},
   "outputs": [],
   "source": [
    "import numpy as np\n",
    "import matplotlib.pyplot as plt\n"
   ]
  },
  {
   "cell_type": "markdown",
   "metadata": {},
   "source": [
    "### Function for the random step\n",
    "$DX$ is the standard deviation, $bias$ is the constant average of the step"
   ]
  },
  {
   "cell_type": "code",
   "execution_count": 2,
   "metadata": {},
   "outputs": [
    {
     "name": "stdout",
     "output_type": "stream",
     "text": [
      "-5\n",
      "28\n",
      "-20\n",
      "-22\n",
      "103\n",
      "74\n",
      "9\n",
      "19\n",
      "43\n",
      "67\n"
     ]
    }
   ],
   "source": [
    "# random seed for reproducibility\n",
    "np.random.seed(12345)\n",
    "\n",
    "# function for the random step, using lambda construction\n",
    "# int() for cleaner look and for mimiking a detector with finite resolution\n",
    "jump = lambda drift, stdev: int(np.random.normal(drift,stdev))\n",
    "\n",
    "for i in range(10):\n",
    "    print(jump(5,50))"
   ]
  },
  {
   "cell_type": "markdown",
   "metadata": {},
   "source": [
    "### Function for the added pattern\n",
    "to add to part of a time series, over $z$ bins, with amplitude $a$"
   ]
  },
  {
   "cell_type": "code",
   "execution_count": 3,
   "metadata": {},
   "outputs": [],
   "source": [
    "def pattern(i,z,a):\n",
    "    return int(a*np.sin((np.pi*i)/z))"
   ]
  },
  {
   "cell_type": "code",
   "execution_count": 4,
   "metadata": {},
   "outputs": [
    {
     "name": "stdout",
     "output_type": "stream",
     "text": [
      "[0, -5, 23, 3, -19, 84, 158, 167, 186, 229, 296, 351, 292, 310, 326, 398, 447, 352, 339, 427, 411, 390, 418, 585, 539, 516, 527, 547, 578, 583, 655, 625, 589, 476, 388, 350, 383, 325, 335, 287, 308, 196, 192, 120, 77, 17, 36, 59, 27, 48, 120, 128, 145, 149, 204, 275, 235, 163, 169, 211] 0\n",
      "[183, 231, 235, 242, 280, 327, 285, 288, 307, 400, 449, 468, 575, 634, 655, 661, 561, 431, 270, 110, 126, 133, 81, 126, 152, 207, 303, 259, 306, 305, 355, 369, 482, 482, 587, 593, 637, 647, 615, 649, 661, 588, 565, 568, 527, 508, 511, 570, 624, 600, 684, 663, 690, 741, 668, 622, 607, 623, 619, 657] 1\n",
      "[580, 623, 678, 663, 597, 579, 558, 521, 610, 643, 496, 417, 360, 369, 247, 190, 258, 256, 359, 489, 648, 783, 751, 706, 825, 746, 794, 774, 749, 796, 798, 793, 831, 835, 777, 810, 841, 801, 790, 777, 894, 865, 828, 836, 837, 826, 839, 855, 854, 851, 785, 799, 883, 811, 830, 807, 807, 804, 789, 732] 2\n"
     ]
    }
   ],
   "source": [
    "# random seed for reproducibility\n",
    "np.random.seed(12345)\n",
    "\n",
    "# pattern parameters: Z=nr of steps, A=amplitude\n",
    "Z=12\n",
    "A=500\n",
    "\n",
    "# number of data samples\n",
    "N=10000\n",
    "# size of each sample of the timeseries\n",
    "L=60\n",
    "# step parameters: introduce small positive bias \n",
    "DX = 50\n",
    "bias = 5\n",
    "\n",
    "y = [0] * N #creates a list of N zeros inside a list, lables \n",
    "x = [[0] * L for i in range(N)] #creates N lists of L zeros, samples \n",
    "for i in range(N):\n",
    "    if i>0:\n",
    "        x[i][0] = x[i-1][-1] + jump(bias,DX)\n",
    "    \n",
    "    for j in range(1,L):\n",
    "        x[i][j] = x[i][j-1] + jump(bias,DX)\n",
    "        \n",
    "    y[i] = i%3 \n",
    "    ##y[i] = random.randint(0,2)\n",
    "    if y[i]>0:\n",
    "        j0 = np.random.randint(0,L-1-Z)\n",
    "        ###print(i,j0,j1)\n",
    "        sign = 3-2*y[i]\n",
    "        for j in range(Z):\n",
    "            x[i][j0+j] += sign*pattern(j,Z,A)\n",
    "            \n",
    "for i in range(min(3,N)):\n",
    "    print(x[i],y[i])\n",
    "    \n",
    "\n"
   ]
  },
  {
   "cell_type": "code",
   "execution_count": 5,
   "metadata": {},
   "outputs": [
    {
     "data": {
      "image/png": "[encoded data removed]",
      "text/plain": [
       "<Figure size 432x288 with 1 Axes>"
      ]
     },
     "metadata": {
      "needs_background": "light"
     },
     "output_type": "display_data"
    }
   ],
   "source": [
    "Show_data(x,L, 100,title = \"original data\")"
   ]
  },
  {
   "cell_type": "markdown",
   "metadata": {},
   "source": [
    "### Save data on file"
   ]
  },
  {
   "cell_type": "code",
   "execution_count": 6,
   "metadata": {},
   "outputs": [
    {
     "name": "stdout",
     "output_type": "stream",
     "text": [
      "mkdir: cannot create directory ‘DATA’: File exists\n",
      "ts_L60_Z12_A500_DX50_bias5_N10000.dat\n"
     ]
    }
   ],
   "source": [
    "# command in linux\n",
    "!mkdir DATA\n",
    "str0 = f'ts_L{L}_Z{Z}_A{A}_DX{DX}_bias{bias}_N{N}.dat'\n",
    "print(str0)\n",
    "\n",
    "fname='DATA/x_'+str0\n",
    "np.savetxt(fname,x,fmt=\"%d\")\n",
    "fname='DATA/y_'+str0\n",
    "np.savetxt(fname,y,fmt=\"%d\")"
   ]
  },
  {
   "cell_type": "code",
   "execution_count": 7,
   "metadata": {},
   "outputs": [
    {
     "name": "stdout",
     "output_type": "stream",
     "text": [
      "0\n",
      "1\n",
      "2\n",
      "0\n",
      "1\n",
      "2\n",
      "0\n",
      "1\n",
      "2\n",
      "0\n",
      "1\n",
      "2\n",
      "0\n",
      "1\n",
      "2\n",
      "0\n",
      "1\n",
      "2\n",
      "0\n",
      "1\n"
     ]
    }
   ],
   "source": [
    "for i in range(20):\n",
    "    print(i%3)"
   ]
  },
  {
   "cell_type": "code",
   "execution_count": null,
   "metadata": {},
   "outputs": [],
   "source": []
  }
 ],
 "metadata": {
  "kernelspec": {
   "display_name": "Python 3 (ipykernel)",
   "language": "python",
   "name": "python3"
  },
  "language_info": {
   "codemirror_mode": {
    "name": "ipython",
    "version": 3
   },
   "file_extension": ".py",
   "mimetype": "text/x-python",
   "name": "python",
   "nbconvert_exporter": "python",
   "pygments_lexer": "ipython3",
   "version": "3.10.2"
  }
 },
 "nbformat": 4,
 "nbformat_minor": 4
}
