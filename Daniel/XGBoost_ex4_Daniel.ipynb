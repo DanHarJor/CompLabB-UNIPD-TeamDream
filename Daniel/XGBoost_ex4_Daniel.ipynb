{
 "cells": [
  {
   "cell_type": "markdown",
   "id": "7027d566",
   "metadata": {
    "colab_type": "text",
    "id": "view-in-github"
   },
   "source": [
    "<a href=\"https://colab.research.google.com/github/DanHarJor/CompLabB-UNIPD-TeamDream/blob/main/Daniel/XGBoost_ex4_Daniel.ipynb\" target=\"_parent\"><img src=\"https://colab.research.google.com/assets/colab-badge.svg\" alt=\"Open In Colab\"/></a>"
   ]
  },
  {
   "cell_type": "markdown",
   "id": "978d0c6b",
   "metadata": {
    "id": "978d0c6b"
   },
   "source": [
    "# Set-Up"
   ]
  },
  {
   "cell_type": "code",
   "execution_count": null,
   "id": "HCosFtGeinfU",
   "metadata": {
    "colab": {
     "base_uri": "https://localhost:8080/"
    },
    "id": "HCosFtGeinfU",
    "outputId": "d3ad6e7a-e067-467f-fc8a-4ece90732d2e"
   },
   "outputs": [
    {
     "name": "stdout",
     "output_type": "stream",
     "text": [
      "--2022-03-30 11:29:15--  https://raw.githubusercontent.com/DanHarJor/CompLabB-UNIPD-TeamDream/main/Daniel/04_XGBoost/DATA/x_ts_L60_Z12_A500_DX50_bias5_N10000.dat\n",
      "Resolving raw.githubusercontent.com (raw.githubusercontent.com)... 185.199.108.133, 185.199.109.133, 185.199.110.133, ...\n",
      "Connecting to raw.githubusercontent.com (raw.githubusercontent.com)|185.199.108.133|:443... connected.\n",
      "HTTP request sent, awaiting response... 200 OK\n",
      "Length: 4563780 (4.4M) [text/plain]\n",
      "Saving to: ‘x_ts_L60_Z12_A500_DX50_bias5_N10000.dat.1’\n",
      "\n",
      "x_ts_L60_Z12_A500_D 100%[===================>]   4.35M  --.-KB/s    in 0.09s   \n",
      "\n",
      "2022-03-30 11:29:16 (47.5 MB/s) - ‘x_ts_L60_Z12_A500_DX50_bias5_N10000.dat.1’ saved [4563780/4563780]\n",
      "\n",
      "--2022-03-30 11:29:16--  https://raw.githubusercontent.com/DanHarJor/CompLabB-UNIPD-TeamDream/main/Daniel/04_XGBoost/DATA/y_ts_L60_Z12_A500_DX50_bias5_N10000.dat\n",
      "Resolving raw.githubusercontent.com (raw.githubusercontent.com)... 185.199.111.133, 185.199.109.133, 185.199.108.133, ...\n",
      "Connecting to raw.githubusercontent.com (raw.githubusercontent.com)|185.199.111.133|:443... connected.\n",
      "HTTP request sent, awaiting response... 200 OK\n",
      "Length: 20000 (20K) [text/plain]\n",
      "Saving to: ‘y_ts_L60_Z12_A500_DX50_bias5_N10000.dat.1’\n",
      "\n",
      "y_ts_L60_Z12_A500_D 100%[===================>]  19.53K  --.-KB/s    in 0s      \n",
      "\n",
      "2022-03-30 11:29:16 (38.2 MB/s) - ‘y_ts_L60_Z12_A500_DX50_bias5_N10000.dat.1’ saved [20000/20000]\n",
      "\n"
     ]
    }
   ],
   "source": [
    "#!pip install tsfresh\n",
    "#!wget https://raw.githubusercontent.com/DanHarJor/CompLabB-UNIPD-TeamDream/main/Daniel/04_XGBoost/DATA/x_ts_L60_Z12_A500_DX50_bias5_N10000.dat\n",
    "#!wget https://raw.githubusercontent.com/DanHarJor/CompLabB-UNIPD-TeamDream/main/Daniel/04_XGBoost/DATA/y_ts_L60_Z12_A500_DX50_bias5_N10000.dat"
   ]
  },
  {
   "cell_type": "code",
   "execution_count": 81,
   "id": "e7c208ee",
   "metadata": {
    "colab": {
     "base_uri": "https://localhost:8080/"
    },
    "id": "e7c208ee",
    "outputId": "b93c500b-5826-4e7f-b1c5-3cf44485fc3c"
   },
   "outputs": [
    {
     "name": "stdout",
     "output_type": "stream",
     "text": [
      "data:  10000\n"
     ]
    }
   ],
   "source": [
    "import os\n",
    "import keras\n",
    "import tensorflow as tf\n",
    "from keras.models import Sequential\n",
    "from keras.layers import Dense, Dropout, Flatten #, Reshape\n",
    "from keras.layers import Conv1D, MaxPooling1D, AveragePooling1D\n",
    "import pandas as pd\n",
    "import numpy as np\n",
    "import matplotlib.pyplot as plt\n",
    "import matplotlib.markers as mark\n",
    "from tsfresh import extract_features\n",
    "from xgboost import XGBClassifier, plot_tree\n",
    "plt.rcParams['font.size'] = 14\n",
    "\n",
    "#Load, scale and split Data ################################################################\n",
    "str0 = 'ts_L60_Z12_A500_DX50_bias5_N10000.dat'\n",
    "fnamex='x_'+str0\n",
    "fnamey='y_'+str0\n",
    "\n",
    "x = np.loadtxt(fnamex, delimiter=\" \",dtype=float)\n",
    "N,L = len(x), len(x[0])\n",
    "\n",
    "categ = np.loadtxt(fnamey, dtype=int)\n",
    "n_class = 3    # y.argmax() - y.argmin() +1\n",
    "print('data: ',N)\n",
    "\n",
    "y = np.zeros((N,n_class))\n",
    "for i in range(N):\n",
    "    y[i][categ[i]] = 1.\n",
    "\n",
    "#rescale\n",
    "xm = x.mean(axis=1)\n",
    "for i in range(N):\n",
    "    x[i] = x[i]-xm[i]\n",
    "\n",
    "#rescale crude\n",
    "x = x/400\n",
    "\n",
    "perc_train=0.8\n",
    "N_train = int(perc_train*N)\n",
    "x_train = x[:N_train]\n",
    "y_train = y[:N_train]\n",
    "x_val = x[N_train:]\n",
    "y_val = y[N_train:]\n",
    "N_val = len(x_val)\n",
    "\n",
    "x_train = x_train.reshape(x_train.shape[0], L, 1)\n",
    "x_val =  x_val.reshape(x_val.shape[0], L, 1)\n",
    "input_shape = (L, 1)\n",
    "##########################################################################\n",
    "\n",
    "def Show_data(x,L,nSamples = 2,title=\"data\"):\n",
    "    plt.figure(figsize = (nSamples*3,10))\n",
    "    for i in range(nSamples):\n",
    "        plt.plot(np.arange((i+1)*L,(i+1)*L+L),x[i])\n",
    "        #plt.plot(np.arange(L,2*L),x[1])\n",
    "        #plt.plot(np.arange(2*L,3*L),x[2])\n",
    "    plt.title(title)\n",
    "    plt.xlabel(\"time\")\n",
    "    plt.show()\n",
    "\n",
    "def Show_history(fit, EPOCHS):\n",
    "    fig,AX=plt.subplots(1,2,figsize=(12,5.))\n",
    "    ax=AX[0]\n",
    "    ax.plot(fit.history['accuracy'],\"b\",label=\"train\")\n",
    "    ax.plot(fit.history['val_accuracy'],\"r--\",label=\"valid.\")\n",
    "    ax.plot((0,EPOCHS),(1/3,1/3),\":\",c=\"gray\",label=\"random choice\")\n",
    "    ax.set_xlabel('epoch')\n",
    "    ax.set_ylabel(\"Accuracy\")\n",
    "    ax.set_ylim([0, 1])\n",
    "    ax.legend()\n",
    "    ax=AX[1]\n",
    "    ax.plot(fit.history['loss'],\"b\",label=\"train\")\n",
    "    ax.plot(fit.history['val_loss'],\"r--\",label=\"valid.\")\n",
    "    ax.set_xlabel('epoch')\n",
    "    ax.set_ylabel(\"Loss\")\n",
    "    ax.set_ylim([0, 1.05*np.max(fit.history['loss'])])\n",
    "    ax.legend()\n",
    "    plt.show()\n",
    "\n",
    "##method 1\n",
    "import tensorflow.random as tf_r\n",
    "def compile_CNN(regLevel = 0.2):\n",
    "    #np.random.seed(12345)\n",
    "    \n",
    "    #tf_r.set_seed(12345)\n",
    "    ## from keras import regularizers, initializers\n",
    "    reg = tf.keras.regularizers.l1(regLevel) ## raised to 0.2\n",
    "    #reg = regularizers.l1(0.1)\n",
    "    ini = tf.keras.initializers.RandomNormal(mean=0.0, stddev=0.05,seed=None)\n",
    "    model = Sequential()\n",
    "    # -----2-- Convelutional layers\n",
    "    model.add(Conv1D(filters=5, kernel_size=11, \n",
    "                     kernel_initializer=ini, \n",
    "                     kernel_regularizer=reg,\n",
    "                     activation='relu', \n",
    "                     input_shape=input_shape))\n",
    "    #model.add(MaxPooling1D(3))\n",
    "    model.add(AveragePooling1D(5))\n",
    "    model.add(Conv1D(filters=5, kernel_size=7, \n",
    "                     activation='relu'))\n",
    "    model.add(Flatten())\n",
    "    model.add(Dense(12, activation='relu'))\n",
    "    model.add(Dropout(0.2))\n",
    "    model.add(Dense(n_class, activation='softmax')) # softmax !\n",
    "    model.compile(loss=keras.losses.categorical_crossentropy,\n",
    "                  optimizer=tf.keras.optimizers.Adam(),\n",
    "                  metrics=['accuracy'])\n",
    "    return model\n",
    "\n",
    "#used to remember best weights\n",
    "model_checkpoint_callback = tf.keras.callbacks.ModelCheckpoint(\n",
    "        filepath = os.getcwd(),\n",
    "        save_weights_only=False,\n",
    "        monitor='val_accuracy',\n",
    "        mode='max',\n",
    "        save_best_only=True,\n",
    "        verbose = 0)\n"
   ]
  },
  {
   "cell_type": "markdown",
   "id": "3fd02d77",
   "metadata": {
    "id": "3fd02d77"
   },
   "source": [
    "# CNN at various data sizes"
   ]
  },
  {
   "cell_type": "code",
   "execution_count": 84,
   "id": "9e2ab44c",
   "metadata": {
    "colab": {
     "base_uri": "https://localhost:8080/"
    },
    "id": "9e2ab44c",
    "outputId": "ac6fbf13-85d4-4ad9-8a70-ed99e7fa078d"
   },
   "outputs": [
    {
     "name": "stdout",
     "output_type": "stream",
     "text": [
      "[0.25, 0.5, 0.5, 0.5, 0.25]\n",
      "[0.5, 0.4000000059604645, 0.4000000059604645, 0.30000001192092896, 0.5]\n",
      "[0.44999998807907104, 0.6000000238418579, 0.44999998807907104, 0.44999998807907104, 0.5]\n",
      "[0.4333333373069763, 0.46666666865348816, 0.5333333611488342, 0.5333333611488342, 0.5]\n",
      "[0.42500001192092896, 0.5249999761581421, 0.5, 0.44999998807907104, 0.44999998807907104]\n",
      "[0.4399999976158142, 0.46000000834465027, 0.5600000023841858, 0.4399999976158142, 0.46000000834465027]\n",
      "[0.4166666567325592, 0.5166666507720947, 0.6000000238418579, 0.4833333194255829, 0.4166666567325592]\n",
      "[0.5249999761581421, 0.4749999940395355, 0.675000011920929, 0.550000011920929, 0.5]\n",
      "[0.4000000059604645, 0.6200000047683716, 0.36000001430511475, 0.5699999928474426, 0.4099999964237213]\n",
      "[0.5666666626930237, 0.5583333373069763, 0.5, 0.44999998807907104, 0.5583333373069763]\n",
      "[0.4714285731315613, 0.6071428656578064, 0.5428571701049805, 0.550000011920929, 0.6071428656578064]\n",
      "[0.4625000059604645, 0.574999988079071, 0.48750001192092896, 0.44999998807907104, 0.46875]\n",
      "[0.5333333611488342, 0.5777778029441833, 0.5277777910232544, 0.49444442987442017, 0.4833333194255829]\n",
      "[0.41499999165534973, 0.7300000190734863, 0.5149999856948853, 0.5350000262260437, 0.4749999940395355]\n",
      "[0.47749999165534973, 0.7074999809265137, 0.48249998688697815, 0.4449999928474426, 0.47999998927116394]\n",
      "INFO:tensorflow:Assets written to: /content/assets\n",
      "INFO:tensorflow:Assets written to: /content/assets\n",
      "INFO:tensorflow:Assets written to: /content/assets\n",
      "INFO:tensorflow:Assets written to: /content/assets\n",
      "INFO:tensorflow:Assets written to: /content/assets\n",
      "INFO:tensorflow:Assets written to: /content/assets\n",
      "INFO:tensorflow:Assets written to: /content/assets\n",
      "INFO:tensorflow:Assets written to: /content/assets\n",
      "INFO:tensorflow:Assets written to: /content/assets\n",
      "INFO:tensorflow:Assets written to: /content/assets\n",
      "INFO:tensorflow:Assets written to: /content/assets\n",
      "INFO:tensorflow:Assets written to: /content/assets\n",
      "INFO:tensorflow:Assets written to: /content/assets\n",
      "INFO:tensorflow:Assets written to: /content/assets\n",
      "INFO:tensorflow:Assets written to: /content/assets\n",
      "INFO:tensorflow:Assets written to: /content/assets\n",
      "[0.8233333230018616, 0.7799999713897705, 0.5233333110809326, 0.5149999856948853, 0.8166666626930237]\n",
      "INFO:tensorflow:Assets written to: /content/assets\n",
      "INFO:tensorflow:Assets written to: /content/assets\n",
      "INFO:tensorflow:Assets written to: /content/assets\n",
      "INFO:tensorflow:Assets written to: /content/assets\n",
      "INFO:tensorflow:Assets written to: /content/assets\n",
      "INFO:tensorflow:Assets written to: /content/assets\n",
      "INFO:tensorflow:Assets written to: /content/assets\n",
      "INFO:tensorflow:Assets written to: /content/assets\n",
      "INFO:tensorflow:Assets written to: /content/assets\n",
      "INFO:tensorflow:Assets written to: /content/assets\n",
      "INFO:tensorflow:Assets written to: /content/assets\n",
      "INFO:tensorflow:Assets written to: /content/assets\n",
      "INFO:tensorflow:Assets written to: /content/assets\n",
      "INFO:tensorflow:Assets written to: /content/assets\n",
      "INFO:tensorflow:Assets written to: /content/assets\n",
      "INFO:tensorflow:Assets written to: /content/assets\n",
      "INFO:tensorflow:Assets written to: /content/assets\n",
      "INFO:tensorflow:Assets written to: /content/assets\n",
      "INFO:tensorflow:Assets written to: /content/assets\n",
      "INFO:tensorflow:Assets written to: /content/assets\n",
      "INFO:tensorflow:Assets written to: /content/assets\n",
      "INFO:tensorflow:Assets written to: /content/assets\n",
      "INFO:tensorflow:Assets written to: /content/assets\n",
      "INFO:tensorflow:Assets written to: /content/assets\n",
      "INFO:tensorflow:Assets written to: /content/assets\n",
      "INFO:tensorflow:Assets written to: /content/assets\n",
      "INFO:tensorflow:Assets written to: /content/assets\n",
      "INFO:tensorflow:Assets written to: /content/assets\n",
      "INFO:tensorflow:Assets written to: /content/assets\n",
      "INFO:tensorflow:Assets written to: /content/assets\n",
      "INFO:tensorflow:Assets written to: /content/assets\n",
      "INFO:tensorflow:Assets written to: /content/assets\n",
      "INFO:tensorflow:Assets written to: /content/assets\n",
      "INFO:tensorflow:Assets written to: /content/assets\n",
      "INFO:tensorflow:Assets written to: /content/assets\n",
      "INFO:tensorflow:Assets written to: /content/assets\n",
      "INFO:tensorflow:Assets written to: /content/assets\n",
      "INFO:tensorflow:Assets written to: /content/assets\n",
      "INFO:tensorflow:Assets written to: /content/assets\n",
      "INFO:tensorflow:Assets written to: /content/assets\n",
      "INFO:tensorflow:Assets written to: /content/assets\n",
      "INFO:tensorflow:Assets written to: /content/assets\n",
      "INFO:tensorflow:Assets written to: /content/assets\n",
      "INFO:tensorflow:Assets written to: /content/assets\n",
      "INFO:tensorflow:Assets written to: /content/assets\n",
      "INFO:tensorflow:Assets written to: /content/assets\n",
      "INFO:tensorflow:Assets written to: /content/assets\n",
      "[0.4399999976158142, 0.9705555438995361, 0.3772222101688385, 0.49388888478279114, 0.42888888716697693]\n"
     ]
    }
   ],
   "source": [
    "Ndat = [20,50,100,150,200,250,300,400,500,600,700,800,900,1000,2000,3000,9000]\n",
    "batch_sizes = [10,20,30,50,50,50,100,100,100,250,250,250,250,250,250,250,9000]\n",
    "CNN_mean_acc = []\n",
    "CNN_variance_acc = []\n",
    "CNN_acc = []\n",
    "\n",
    "EPOCHS = 100 #needs tuned for comparison with XGBoost\n",
    "for i in range(len(Ndat)):\n",
    "    CNN_acc_temp = []\n",
    "    N = Ndat[i]\n",
    "    # resize data\n",
    "    s_x_train = x_train[0:N,:]\n",
    "    s_y_train = y_train[0:N]\n",
    "    s_x_val = x_val[0:int(0.2*N),:]\n",
    "    s_y_val = y_val[0:int(0.2*N)]\n",
    "    \n",
    "    if i < 9:\n",
    "        BATCH_SIZE =  batch_sizes[i] #not sure\n",
    "    else: BATCH_SIZE = 250\n",
    "    \n",
    "    for j in range(5):\n",
    "      #train and test CNN\n",
    "      CNN = compile_CNN()\n",
    "      fit = CNN.fit(s_x_train,s_y_train,batch_size=BATCH_SIZE,\n",
    "                      epochs=EPOCHS,\n",
    "                      validation_data=(s_x_val, s_y_val),\n",
    "                      verbose=0, shuffle=True, callbacks=[model_checkpoint_callback])\n",
    "      maxAcc = np.max(fit.history['val_accuracy'])\n",
    "      CNN_acc_temp.append(maxAcc)\n",
    "    print(CNN_acc_temp)\n",
    "    CNN_acc.append(CNN_acc_temp)\n",
    "    CNN_mean_acc.append(np.mean(CNN_acc_temp))\n",
    "    CNN_variance_acc.append(np.var(CNN_acc_temp))\n"
   ]
  },
  {
   "cell_type": "code",
   "execution_count": 85,
   "id": "f7997806",
   "metadata": {
    "colab": {
     "base_uri": "https://localhost:8080/",
     "height": 651
    },
    "id": "f7997806",
    "outputId": "0ce151e2-90e4-48df-bc7e-6fff1e0ac4e1"
   },
   "outputs": [
    {
     "name": "stderr",
     "output_type": "stream",
     "text": [
      "No handles with labels found to put in legend.\n"
     ]
    },
    {
     "data": {
      "text/plain": [
       "<matplotlib.legend.Legend at 0x7f1c81e0d290>"
      ]
     },
     "execution_count": 85,
     "metadata": {},
     "output_type": "execute_result"
    },
    {
     "data": {
      "image/png": "[encoded data removed]",
      "text/plain": [
       "<Figure size 1080x720 with 1 Axes>"
      ]
     },
     "metadata": {
      "needs_background": "light"
     },
     "output_type": "display_data"
    }
   ],
   "source": [
    "figDataSize = plt.figure(figsize = (15,10))\n",
    "#plt.plot(Ndat,CNN_mean_acc, 'r.-', label = 'CNN')\n",
    "plt.errorbar(Ndat,CNN_mean_acc, yerr = CNN_variance_acc,ecolor = 'r', marker = 'o',mfc = 'g')\n",
    "#plt.xticks(Ndat,Ndat)\n",
    "plt.title('Performance Comparison for Various Data Sizes, CNN')\n",
    "plt.legend()"
   ]
  },
  {
   "cell_type": "markdown",
   "id": "c466b677",
   "metadata": {
    "id": "c466b677"
   },
   "source": [
    "# XGBoost with tsfresh"
   ]
  },
  {
   "cell_type": "code",
   "execution_count": null,
   "id": "5b03e50a",
   "metadata": {
    "colab": {
     "base_uri": "https://localhost:8080/"
    },
    "id": "5b03e50a",
    "outputId": "f0e5d1be-28d1-4a1a-805c-00b79b3ab0c2"
   },
   "outputs": [
    {
     "name": "stderr",
     "output_type": "stream",
     "text": [
      "Feature Extraction:   4%|▍         | 388/10000 [03:15<1:19:37,  2.01it/s]Exception in thread Thread-13:\n",
      "Traceback (most recent call last):\n",
      "  File \"/usr/lib/python3.7/threading.py\", line 926, in _bootstrap_inner\n",
      "    self.run()\n",
      "  File \"/usr/lib/python3.7/threading.py\", line 870, in run\n",
      "    self._target(*self._args, **self._kwargs)\n",
      "  File \"/usr/lib/python3.7/multiprocessing/pool.py\", line 470, in _handle_results\n",
      "    task = get()\n",
      "  File \"/usr/lib/python3.7/multiprocessing/connection.py\", line 251, in recv\n",
      "    return _ForkingPickler.loads(buf.getbuffer())\n",
      "_pickle.UnpicklingError: invalid load key, '\\x02'.\n",
      "\n",
      "Feature Extraction: 100%|██████████| 10000/10000 [24:50<00:00,  6.71it/s]\n"
     ]
    }
   ],
   "source": [
    "#turn data into a dataframe that is compatable with tsfresh\n",
    "def get_df(x):\n",
    "    '''Build input dataframe for given data series\n",
    "    Input:\n",
    "    var = array of time series, (#samples,time,1)\n",
    "    Return:\n",
    "    df = dataframe ready for features extraction\n",
    "    '''\n",
    "    \n",
    "    #N = #samples, t = timesteps\n",
    "    N, t = x.shape[0], x.shape[1]\n",
    "    #build id columns\n",
    "    id_col = np.repeat(np.arange(N),t)\n",
    "    #build time columns\n",
    "    time_col = np.tile(np.arange(t),N)\n",
    "    #build var columns\n",
    "    x_col = x.flatten()\n",
    "      \n",
    "    #build dict for df\n",
    "    x_dict = {'id':id_col,'time':time_col,'value':x_col}\n",
    "        \n",
    "    #return dataframe\n",
    "    return pd.DataFrame(x_dict)\n",
    "\n",
    "df = get_df(x)\n",
    "\n",
    "#extract features\n",
    "# x_features = extract_features(\n",
    "#                             df, #our dataframe\n",
    "#                             column_id='id', #sample id, from 0 to N\n",
    "#                             column_sort='time', #timestep, from 0 to t\n",
    "#                             column_kind=None, #we have only one feature\n",
    "#                             column_value='value', #value of input \n",
    "#                             n_jobs=1) #number of cores\n",
    "\n"
   ]
  },
  {
   "cell_type": "code",
   "execution_count": null,
   "id": "j8MgqYUhyr8n",
   "metadata": {
    "id": "j8MgqYUhyr8n"
   },
   "outputs": [],
   "source": [
    "\n",
    "#import pickle\n",
    "##save to pickle file\n",
    "#with open('x_features_pick', 'wb') as file:\n",
    "#    pickle.dump(x_features, file)\n",
    "\n",
    "\n",
    "#load from pickle file\n",
    "with open('x_features_pick', 'rb') as file:\n",
    "     x_features = pickle.load(file)\n"
   ]
  },
  {
   "cell_type": "code",
   "execution_count": 94,
   "id": "U9z6ReDAmBcu",
   "metadata": {
    "colab": {
     "base_uri": "https://localhost:8080/"
    },
    "id": "U9z6ReDAmBcu",
    "outputId": "7bd157aa-0bc3-43da-8d50-9a35c5c0c737"
   },
   "outputs": [
    {
     "name": "stdout",
     "output_type": "stream",
     "text": [
      "N_train= 7200   N_val= 2800   n_class= 3\n"
     ]
    }
   ],
   "source": [
    "#remove columns with NaN or inf\n",
    "x_features.replace([np.inf, -np.inf], np.nan)\n",
    "x_features = x_features.dropna(axis='columns')\n",
    "\n",
    "#split data into training and validation\n",
    "perc_train=0.8\n",
    "N_train = int(perc_train*N)\n",
    "x_train = x_features[:N_train]\n",
    "y_train_xgb = categ[:N_train]\n",
    "x_val = x_features[N_train:]\n",
    "y_val_xgb = categ[N_train:]\n",
    "N_val = len(x_val)\n",
    "print('N_train=',N_train,'  N_val=',N_val,'  n_class=',n_class)\n",
    "\n",
    "#rescale: in each feature, remove average and divide by std\n",
    "average = np.mean(x_train,axis=0)\n",
    "x_train -= average\n",
    "x_val -= average\n",
    "\n",
    "std = np.std(x_train,axis=0)\n",
    "x_train /= std\n",
    "x_val /= std\n",
    "\n",
    "def XGB_compile():\n",
    "    # reproducibility\n",
    "    #np.random.seed(12345)\n",
    "\n",
    "    #define parameters for xgboost\n",
    "    params = {'max_depth':6,'min_child_weight':1,\\\n",
    "              'learning_rate':0.3,'use_label_encoder':False}\n",
    "\n",
    "    #build model with given params\n",
    "    model = XGBClassifier(**params)\n",
    "    return model\n",
    "#fit\n",
    "XGB = XGB_compile()\n",
    "#fit = XGB.fit(x_train.values,y_train_xgb)"
   ]
  },
  {
   "cell_type": "code",
   "execution_count": 71,
   "id": "jYtV7UomCsX6",
   "metadata": {
    "id": "jYtV7UomCsX6"
   },
   "outputs": [],
   "source": [
    "y_pred = XGB.predict(x_val.values)\n",
    "\n"
   ]
  },
  {
   "cell_type": "code",
   "execution_count": 72,
   "id": "OIpHkzDlFGpU",
   "metadata": {
    "colab": {
     "base_uri": "https://localhost:8080/"
    },
    "id": "OIpHkzDlFGpU",
    "outputId": "cdb4a9a2-d9ed-4499-b862-0c725e8b34d5"
   },
   "outputs": [
    {
     "name": "stdout",
     "output_type": "stream",
     "text": [
      "When all 10,000 data points are used, accuracy is 0.968\n"
     ]
    }
   ],
   "source": [
    "correct = np.sum([y_pred == y_val_xgb])\n",
    "xgb_va = correct/len(y_val_xgb)\n",
    "print('When all 10,000 data points are used, accuracy is',xgb_va)"
   ]
  },
  {
   "cell_type": "code",
   "execution_count": 95,
   "id": "JCCjd1jmLvxb",
   "metadata": {
    "id": "JCCjd1jmLvxb"
   },
   "outputs": [],
   "source": [
    "Ndat = [20,50,100,150,200,250,300,400,500,600,700,800,900,1000,2000,3000,9000]\n",
    "XGB_mean_acc = []\n",
    "XGB_variance_acc = []\n",
    "XGB_acc = []\n",
    "\n",
    "for i in range(len(Ndat)):\n",
    "    XGB_acc_temp = []\n",
    "    N = Ndat[i]\n",
    "    # resize data\n",
    "    s_x_train = x_train[:N]\n",
    "    s_y_train = y_train_xgb[0:N]\n",
    "    s_x_val = x_val[0:int(0.2*N)]\n",
    "    s_y_val = y_val_xgb[0:int(0.2*N)]\n",
    "    \n",
    "    for j in range(5):\n",
    "      XGB = XGB_compile()\n",
    "      fit = XGB.fit(s_x_train.values,s_y_train)\n",
    "      y_pred = XGB.predict(s_x_val.values)\n",
    "      acc = np.sum([y_pred == s_y_val])/len(s_y_val)\n",
    "      XGB_acc_temp.append(acc)\n",
    "    XGB_acc.append(XGB_acc_temp)\n",
    "    XGB_mean_acc.append(np.mean(XGB_acc_temp))\n",
    "    XGB_variance_acc.append(np.var(XGB_acc_temp))\n"
   ]
  },
  {
   "cell_type": "code",
   "execution_count": 96,
   "id": "LBe0C-YScRE7",
   "metadata": {
    "colab": {
     "base_uri": "https://localhost:8080/",
     "height": 651
    },
    "id": "LBe0C-YScRE7",
    "outputId": "5bac8921-6d74-4919-81ba-6fa08f126a6d"
   },
   "outputs": [
    {
     "name": "stderr",
     "output_type": "stream",
     "text": [
      "No handles with labels found to put in legend.\n"
     ]
    },
    {
     "data": {
      "text/plain": [
       "<matplotlib.legend.Legend at 0x7f1cedc093d0>"
      ]
     },
     "execution_count": 96,
     "metadata": {},
     "output_type": "execute_result"
    },
    {
     "data": {
      "image/png": "[encoded data removed]",
      "text/plain": [
       "<Figure size 1080x720 with 1 Axes>"
      ]
     },
     "metadata": {
      "needs_background": "light"
     },
     "output_type": "display_data"
    }
   ],
   "source": [
    "figDataSize = plt.figure(figsize = (15,10))\n",
    "plt.errorbar(Ndat,XGB_mean_acc, yerr = XGB_variance_acc,ecolor = 'r', marker = 'o',mfc = 'g')\n",
    "plt.title('Performance Comparison for Various Data Sizes XGBoost')\n",
    "plt.legend()"
   ]
  },
  {
   "cell_type": "code",
   "execution_count": 97,
   "id": "ufxro_cGiNWt",
   "metadata": {
    "colab": {
     "base_uri": "https://localhost:8080/"
    },
    "id": "ufxro_cGiNWt",
    "outputId": "add16918-e64f-4f12-abd2-4a819c76021c"
   },
   "outputs": [
    {
     "name": "stdout",
     "output_type": "stream",
     "text": [
      "[0.0, 0.0, 0.0, 1.232595164407831e-32, 0.0, 1.232595164407831e-32, 0.0, 0.0, 1.232595164407831e-32, 1.232595164407831e-32, 0.0, 0.0, 0.0, 0.0, 1.232595164407831e-32, 0.0, 1.232595164407831e-32]\n"
     ]
    }
   ],
   "source": [
    "print(XGB_variance_acc)"
   ]
  },
  {
   "cell_type": "code",
   "execution_count": null,
   "id": "ZkqmAhZYQwwe",
   "metadata": {
    "id": "ZkqmAhZYQwwe"
   },
   "outputs": [],
   "source": []
  },
  {
   "cell_type": "markdown",
   "id": "VeDyrh4tef93",
   "metadata": {
    "id": "VeDyrh4tef93"
   },
   "source": [
    "# Comparing XGBoost with CNN"
   ]
  },
  {
   "cell_type": "code",
   "execution_count": 99,
   "id": "fkpWjwJ4eq-3",
   "metadata": {
    "colab": {
     "base_uri": "https://localhost:8080/",
     "height": 633
    },
    "id": "fkpWjwJ4eq-3",
    "outputId": "91d1a485-9f7c-4171-88cd-edb7e9edc02c"
   },
   "outputs": [
    {
     "data": {
      "text/plain": [
       "<matplotlib.legend.Legend at 0x7f1caaa96310>"
      ]
     },
     "execution_count": 99,
     "metadata": {},
     "output_type": "execute_result"
    },
    {
     "data": {
      "image/png": "[encoded data removed]",
      "text/plain": [
       "<Figure size 1080x720 with 1 Axes>"
      ]
     },
     "metadata": {
      "needs_background": "light"
     },
     "output_type": "display_data"
    }
   ],
   "source": [
    "figDataSize = plt.figure(figsize = (15,10))\n",
    "plt.errorbar(Ndat,CNN_mean_acc, yerr = CNN_variance_acc,ecolor = 'r', marker = 'o',mfc = 'g', color = 'g', label = 'CNN')\n",
    "plt.errorbar(Ndat,XGB_mean_acc, yerr = XGB_variance_acc,ecolor = 'r', marker = 'o',mfc = 'b', color = 'b',label = 'XGBoost')\n",
    "plt.title('Performance Comparison for Various Data Sizes')\n",
    "plt.legend()"
   ]
  },
  {
   "cell_type": "code",
   "execution_count": null,
   "id": "OO4JExKEmrvc",
   "metadata": {
    "id": "OO4JExKEmrvc"
   },
   "outputs": [],
   "source": []
  }
 ],
 "metadata": {
  "colab": {
   "collapsed_sections": [],
   "include_colab_link": true,
   "name": "XGBoost_ex4_Daniel.ipynb",
   "provenance": []
  },
  "kernelspec": {
   "display_name": "Python 3 (ipykernel)",
   "language": "python",
   "name": "python3"
  },
  "language_info": {
   "codemirror_mode": {
    "name": "ipython",
    "version": 3
   },
   "file_extension": ".py",
   "mimetype": "text/x-python",
   "name": "python",
   "nbconvert_exporter": "python",
   "pygments_lexer": "ipython3",
   "version": "3.9.7"
  }
 },
 "nbformat": 4,
 "nbformat_minor": 5
}
