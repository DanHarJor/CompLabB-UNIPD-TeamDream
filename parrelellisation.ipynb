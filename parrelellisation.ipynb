{
 "cells": [
  {
   "cell_type": "code",
   "execution_count": 2,
   "id": "98a377ff",
   "metadata": {},
   "outputs": [],
   "source": [
    "import numpy as np\n",
    "import timeit\n",
    "import multiprocessing as mp"
   ]
  },
  {
   "cell_type": "code",
   "execution_count": 25,
   "id": "3add69f7",
   "metadata": {},
   "outputs": [
    {
     "name": "stdout",
     "output_type": "stream",
     "text": [
      "13.3 µs ± 170 ns per loop (mean ± std. dev. of 7 runs, 100,000 loops each)\n",
      "625 µs ± 35.9 µs per loop (mean ± std. dev. of 7 runs, 1,000 loops each)\n"
     ]
    },
    {
     "name": "stderr",
     "output_type": "stream",
     "text": [
      "Process ForkPoolWorker-61:\n",
      "Process ForkPoolWorker-62:\n",
      "Process ForkPoolWorker-63:\n",
      "Process ForkPoolWorker-64:\n",
      "Traceback (most recent call last):\n",
      "Traceback (most recent call last):\n",
      "Traceback (most recent call last):\n",
      "Traceback (most recent call last):\n",
      "  File \"/home/ubuntu/anaconda3/lib/python3.9/multiprocessing/process.py\", line 315, in _bootstrap\n",
      "    self.run()\n",
      "  File \"/home/ubuntu/anaconda3/lib/python3.9/multiprocessing/process.py\", line 315, in _bootstrap\n",
      "    self.run()\n",
      "  File \"/home/ubuntu/anaconda3/lib/python3.9/multiprocessing/process.py\", line 315, in _bootstrap\n",
      "    self.run()\n",
      "  File \"/home/ubuntu/anaconda3/lib/python3.9/multiprocessing/process.py\", line 108, in run\n",
      "    self._target(*self._args, **self._kwargs)\n",
      "  File \"/home/ubuntu/anaconda3/lib/python3.9/multiprocessing/process.py\", line 108, in run\n",
      "    self._target(*self._args, **self._kwargs)\n",
      "  File \"/home/ubuntu/anaconda3/lib/python3.9/multiprocessing/process.py\", line 108, in run\n",
      "    self._target(*self._args, **self._kwargs)\n",
      "  File \"/home/ubuntu/anaconda3/lib/python3.9/multiprocessing/pool.py\", line 114, in worker\n",
      "    task = get()\n",
      "  File \"/home/ubuntu/anaconda3/lib/python3.9/multiprocessing/pool.py\", line 114, in worker\n",
      "    task = get()\n",
      "  File \"/home/ubuntu/anaconda3/lib/python3.9/multiprocessing/pool.py\", line 114, in worker\n",
      "    task = get()\n",
      "  File \"/home/ubuntu/anaconda3/lib/python3.9/multiprocessing/queues.py\", line 368, in get\n",
      "    return _ForkingPickler.loads(res)\n",
      "  File \"/home/ubuntu/anaconda3/lib/python3.9/multiprocessing/queues.py\", line 368, in get\n",
      "    return _ForkingPickler.loads(res)\n",
      "  File \"/home/ubuntu/anaconda3/lib/python3.9/multiprocessing/queues.py\", line 368, in get\n",
      "    return _ForkingPickler.loads(res)\n",
      "AttributeError: Can't get attribute 'do2' on <module '__main__'>\n",
      "  File \"/home/ubuntu/anaconda3/lib/python3.9/multiprocessing/process.py\", line 315, in _bootstrap\n",
      "    self.run()\n",
      "AttributeError: Can't get attribute 'do2' on <module '__main__'>\n",
      "AttributeError: Can't get attribute 'do2' on <module '__main__'>\n",
      "  File \"/home/ubuntu/anaconda3/lib/python3.9/multiprocessing/process.py\", line 108, in run\n",
      "    self._target(*self._args, **self._kwargs)\n",
      "  File \"/home/ubuntu/anaconda3/lib/python3.9/multiprocessing/pool.py\", line 114, in worker\n",
      "    task = get()\n",
      "  File \"/home/ubuntu/anaconda3/lib/python3.9/multiprocessing/queues.py\", line 368, in get\n",
      "    return _ForkingPickler.loads(res)\n",
      "AttributeError: Can't get attribute 'do2' on <module '__main__'>\n"
     ]
    }
   ],
   "source": [
    "import numpy as np\n",
    "import timeit\n",
    "import multiprocessing as mp\n",
    "\n",
    "lis = range(20)\n",
    "\n",
    "def do(num):\n",
    "    s = 0\n",
    "    for i in range(num):\n",
    "        s += i*i\n",
    "    return s\n",
    "\n",
    "def noMP(lis):\n",
    "    for i in lis:\n",
    "        do(i)\n",
    "    \n",
    "pool = mp.Pool(4)\n",
    "\n",
    "\n",
    "#no mp\n",
    "%timeit noMP(lis)\n",
    "#with mp\n",
    "%timeit pool.map(do,lis)\n",
    "\n",
    "pool.close()\n",
    "#%timeit do(bigList)\n",
    "#%timeit parado(bigList)"
   ]
  },
  {
   "cell_type": "code",
   "execution_count": 16,
   "id": "fb62703e",
   "metadata": {},
   "outputs": [
    {
     "name": "stdout",
     "output_type": "stream",
     "text": [
      "[25, 4, 100, 6]\n"
     ]
    }
   ],
   "source": [
    "pool = mp.Pool(4)\n",
    "def do2(num1,num2):\n",
    "    return num1*num2\n",
    "\n",
    "pairs = [[5,5],[2,2],[10,10],[2,3]]\n",
    "\n",
    "def noMP2(pairs):\n",
    "    for i in pairs:\n",
    "        return do2(i[0],i[1])\n",
    "    \n",
    "#%timeit noMP2(pairs)\n",
    "\n",
    "ans = pool.starmap(do2,pairs)\n",
    "print(ans)\n",
    "pool.close()"
   ]
  },
  {
   "cell_type": "code",
   "execution_count": null,
   "id": "3b5cb74d",
   "metadata": {},
   "outputs": [],
   "source": [
    "#this is for a clash test"
   ]
  }
 ],
 "metadata": {
  "kernelspec": {
   "display_name": "Python 3 (ipykernel)",
   "language": "python",
   "name": "python3"
  },
  "language_info": {
   "codemirror_mode": {
    "name": "ipython",
    "version": 3
   },
   "file_extension": ".py",
   "mimetype": "text/x-python",
   "name": "python",
   "nbconvert_exporter": "python",
   "pygments_lexer": "ipython3",
   "version": "3.9.12"
  }
 },
 "nbformat": 4,
 "nbformat_minor": 5
}
