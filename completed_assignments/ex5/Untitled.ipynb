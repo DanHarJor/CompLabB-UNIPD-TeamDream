{
 "cells": [
  {
   "cell_type": "markdown",
   "id": "b8fc39aa",
   "metadata": {},
   "source": [
    "# merge"
   ]
  },
  {
   "cell_type": "code",
   "execution_count": 2,
   "id": "70172aa2",
   "metadata": {},
   "outputs": [],
   "source": [
    "import json\n",
    "\n",
    "import copy\n",
    "\n",
    "\n",
    "def read_ipynb(notebook_path):\n",
    "    with open(notebook_path, 'r', encoding='utf-8') as f:\n",
    "        return json.load(f)\n",
    "    \n",
    "one = read_ipynb(\"1.ipynb\")\n",
    "two = read_ipynb(\"2.ipynb\")\n",
    "three = read_ipynb(\"3.ipynb\")\n",
    "four = read_ipynb(\"4.ipynb\")\n",
    "\n",
    "final_notebook = copy.deepcopy(one)\n",
    "\n",
    "final_notebook['cells'] = one['cells'] + two['cells'] + three['cells'] + four['cells']\n",
    "\n",
    "def write_ipynb(notebook, notebook_path):\n",
    "    with open(notebook_path, 'w', encoding='utf-8') as f:\n",
    "        json.dump(notebook, f)\n",
    "\n",
    "write_ipynb(final_notebook, '2220_ex5.ipynb')"
   ]
  },
  {
   "cell_type": "code",
   "execution_count": null,
   "id": "d52f00ff",
   "metadata": {},
   "outputs": [],
   "source": []
  }
 ],
 "metadata": {
  "kernelspec": {
   "display_name": "Python 3",
   "language": "python",
   "name": "python3"
  },
  "language_info": {
   "codemirror_mode": {
    "name": "ipython",
    "version": 3
   },
   "file_extension": ".py",
   "mimetype": "text/x-python",
   "name": "python",
   "nbconvert_exporter": "python",
   "pygments_lexer": "ipython3",
   "version": "3.8.8"
  }
 },
 "nbformat": 4,
 "nbformat_minor": 5
}
